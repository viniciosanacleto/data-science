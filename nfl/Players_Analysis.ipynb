{
 "cells": [
  {
   "cell_type": "markdown",
   "metadata": {},
   "source": [
    "# Imports"
   ]
  },
  {
   "cell_type": "code",
   "execution_count": 1,
   "metadata": {},
   "outputs": [],
   "source": [
    "%matplotlib inline\n",
    "import numpy as np\n",
    "import pandas as pd\n",
    "import math\n",
    "from matplotlib import pyplot as plt\n",
    "plt.style.use('ggplot')"
   ]
  },
  {
   "cell_type": "code",
   "execution_count": 2,
   "metadata": {},
   "outputs": [],
   "source": [
    "df = pd.read_csv('data/Basic_Stats.csv')\n"
   ]
  },
  {
   "cell_type": "code",
   "execution_count": 3,
   "metadata": {
    "scrolled": true
   },
   "outputs": [
    {
     "data": {
      "text/html": [
       "<div>\n",
       "<style scoped>\n",
       "    .dataframe tbody tr th:only-of-type {\n",
       "        vertical-align: middle;\n",
       "    }\n",
       "\n",
       "    .dataframe tbody tr th {\n",
       "        vertical-align: top;\n",
       "    }\n",
       "\n",
       "    .dataframe thead th {\n",
       "        text-align: right;\n",
       "    }\n",
       "</style>\n",
       "<table border=\"1\" class=\"dataframe\">\n",
       "  <thead>\n",
       "    <tr style=\"text-align: right;\">\n",
       "      <th></th>\n",
       "      <th>Age</th>\n",
       "      <th>Birth Place</th>\n",
       "      <th>Birthday</th>\n",
       "      <th>College</th>\n",
       "      <th>Current Status</th>\n",
       "      <th>Current Team</th>\n",
       "      <th>Experience</th>\n",
       "      <th>Height (inches)</th>\n",
       "      <th>High School</th>\n",
       "      <th>High School Location</th>\n",
       "      <th>Name</th>\n",
       "      <th>Number</th>\n",
       "      <th>Player Id</th>\n",
       "      <th>Position</th>\n",
       "      <th>Weight (lbs)</th>\n",
       "      <th>Years Played</th>\n",
       "    </tr>\n",
       "  </thead>\n",
       "  <tbody>\n",
       "    <tr>\n",
       "      <th>0</th>\n",
       "      <td>NaN</td>\n",
       "      <td>Grand Rapids , MI</td>\n",
       "      <td>5/23/1921</td>\n",
       "      <td>Notre Dame</td>\n",
       "      <td>Retired</td>\n",
       "      <td>NaN</td>\n",
       "      <td>3 Seasons</td>\n",
       "      <td>71.0</td>\n",
       "      <td>NaN</td>\n",
       "      <td>NaN</td>\n",
       "      <td>Evans, Fred</td>\n",
       "      <td>NaN</td>\n",
       "      <td>fredevans/2513736</td>\n",
       "      <td>NaN</td>\n",
       "      <td>185.0</td>\n",
       "      <td>1946 - 1948</td>\n",
       "    </tr>\n",
       "    <tr>\n",
       "      <th>1</th>\n",
       "      <td>NaN</td>\n",
       "      <td>Dayton , OH</td>\n",
       "      <td>12/21/1930</td>\n",
       "      <td>Dayton</td>\n",
       "      <td>Retired</td>\n",
       "      <td>NaN</td>\n",
       "      <td>1 Season</td>\n",
       "      <td>70.0</td>\n",
       "      <td>NaN</td>\n",
       "      <td>NaN</td>\n",
       "      <td>Raiff, Jim</td>\n",
       "      <td>NaN</td>\n",
       "      <td>jimraiff/2523700</td>\n",
       "      <td>NaN</td>\n",
       "      <td>235.0</td>\n",
       "      <td>1954 - 1954</td>\n",
       "    </tr>\n",
       "    <tr>\n",
       "      <th>2</th>\n",
       "      <td>56.0</td>\n",
       "      <td>Temple , TX</td>\n",
       "      <td>9/11/1960</td>\n",
       "      <td>Louisiana Tech</td>\n",
       "      <td>Retired</td>\n",
       "      <td>NaN</td>\n",
       "      <td>1 Season</td>\n",
       "      <td>74.0</td>\n",
       "      <td>NaN</td>\n",
       "      <td>NaN</td>\n",
       "      <td>Fowler, Bobby</td>\n",
       "      <td>NaN</td>\n",
       "      <td>bobbyfowler/2514295</td>\n",
       "      <td>NaN</td>\n",
       "      <td>230.0</td>\n",
       "      <td>1985 - 1985</td>\n",
       "    </tr>\n",
       "  </tbody>\n",
       "</table>\n",
       "</div>"
      ],
      "text/plain": [
       "    Age        Birth Place    Birthday         College Current Status  \\\n",
       "0   NaN  Grand Rapids , MI   5/23/1921      Notre Dame        Retired   \n",
       "1   NaN        Dayton , OH  12/21/1930          Dayton        Retired   \n",
       "2  56.0        Temple , TX   9/11/1960  Louisiana Tech        Retired   \n",
       "\n",
       "  Current Team Experience  Height (inches) High School High School Location  \\\n",
       "0          NaN  3 Seasons             71.0         NaN                  NaN   \n",
       "1          NaN   1 Season             70.0         NaN                  NaN   \n",
       "2          NaN   1 Season             74.0         NaN                  NaN   \n",
       "\n",
       "            Name  Number            Player Id Position  Weight (lbs)  \\\n",
       "0    Evans, Fred     NaN    fredevans/2513736      NaN         185.0   \n",
       "1     Raiff, Jim     NaN     jimraiff/2523700      NaN         235.0   \n",
       "2  Fowler, Bobby     NaN  bobbyfowler/2514295      NaN         230.0   \n",
       "\n",
       "  Years Played  \n",
       "0  1946 - 1948  \n",
       "1  1954 - 1954  \n",
       "2  1985 - 1985  "
      ]
     },
     "execution_count": 3,
     "metadata": {},
     "output_type": "execute_result"
    }
   ],
   "source": [
    "df.head(3)"
   ]
  },
  {
   "cell_type": "code",
   "execution_count": 4,
   "metadata": {},
   "outputs": [
    {
     "name": "stdout",
     "output_type": "stream",
     "text": [
      "<class 'pandas.core.frame.DataFrame'>\n",
      "RangeIndex: 17172 entries, 0 to 17171\n",
      "Data columns (total 16 columns):\n",
      "Age                     13504 non-null float64\n",
      "Birth Place             14794 non-null object\n",
      "Birthday                16835 non-null object\n",
      "College                 17133 non-null object\n",
      "Current Status          17172 non-null object\n",
      "Current Team            3096 non-null object\n",
      "Experience              17133 non-null object\n",
      "Height (inches)         17026 non-null float64\n",
      "High School             2514 non-null object\n",
      "High School Location    2510 non-null object\n",
      "Name                    17172 non-null object\n",
      "Number                  1708 non-null float64\n",
      "Player Id               17172 non-null object\n",
      "Position                3096 non-null object\n",
      "Weight (lbs)            17121 non-null float64\n",
      "Years Played            14076 non-null object\n",
      "dtypes: float64(4), object(12)\n",
      "memory usage: 2.1+ MB\n"
     ]
    }
   ],
   "source": [
    "df.info()"
   ]
  },
  {
   "cell_type": "markdown",
   "metadata": {},
   "source": [
    "# Cleaning Data"
   ]
  },
  {
   "cell_type": "code",
   "execution_count": 5,
   "metadata": {},
   "outputs": [],
   "source": [
    "#Remove unused columns\n",
    "df.drop(columns=['High School','High School Location'],inplace=True)\n",
    "#Remove players who doesnt has 'Current Status'\n",
    "df.dropna(subset=['Current Status'],inplace=True)\n",
    "#Remove players without 'Name'\n",
    "df.dropna(subset=['Name'],inplace=True)"
   ]
  },
  {
   "cell_type": "code",
   "execution_count": 6,
   "metadata": {},
   "outputs": [],
   "source": [
    "#Convert Birthday only to year and fill NaN\n",
    "df['Birthday'] = df['Birthday'].apply(lambda x: str(x))\n",
    "df['Birthday'] = df['Birthday'].apply(lambda x: x.split('/')[-1])\n",
    "df['Birthday'] = df['Birthday'].apply(lambda x: x.replace('nan','2018'))\n",
    "df['Birthday'] = df['Birthday'].apply(lambda x: int(x))"
   ]
  },
  {
   "cell_type": "code",
   "execution_count": 13,
   "metadata": {},
   "outputs": [],
   "source": [
    "#Calculate Age\n",
    "df['Age'] = 2018 - df['Birthday']"
   ]
  },
  {
   "cell_type": "markdown",
   "metadata": {},
   "source": [
    "# Conversions"
   ]
  },
  {
   "cell_type": "code",
   "execution_count": 22,
   "metadata": {},
   "outputs": [],
   "source": [
    "#Convert height to m and cm\n",
    "df['Height'] = df[\"Height (inches)\"].apply(lambda x: float(\"{0:.2f}\".format(x*0.0254)) if not pd.isna(x) else x)\n",
    "df.drop(columns=[\"Height (inches)\"],inplace=True)"
   ]
  }
 ],
 "metadata": {
  "kernelspec": {
   "display_name": "Python 3",
   "language": "python",
   "name": "python3"
  },
  "language_info": {
   "codemirror_mode": {
    "name": "ipython",
    "version": 3
   },
   "file_extension": ".py",
   "mimetype": "text/x-python",
   "name": "python",
   "nbconvert_exporter": "python",
   "pygments_lexer": "ipython3",
   "version": "3.7.0"
  }
 },
 "nbformat": 4,
 "nbformat_minor": 2
}
