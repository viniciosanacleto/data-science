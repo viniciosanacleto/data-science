{
 "cells": [
  {
   "cell_type": "markdown",
   "metadata": {},
   "source": [
    "# Imports"
   ]
  },
  {
   "cell_type": "code",
   "execution_count": 2,
   "metadata": {},
   "outputs": [],
   "source": [
    "%matplotlib inline\n",
    "import numpy as np\n",
    "import pandas as pd\n",
    "from matplotlib import pyplot as plt\n",
    "plt.style.use('ggplot')"
   ]
  },
  {
   "cell_type": "code",
   "execution_count": 23,
   "metadata": {},
   "outputs": [],
   "source": [
    "df = pd.read_csv('data/Basic_Stats.csv')"
   ]
  },
  {
   "cell_type": "code",
   "execution_count": 39,
   "metadata": {
    "scrolled": true
   },
   "outputs": [
    {
     "data": {
      "text/plain": [
       "Age                     float64\n",
       "Birth Place              object\n",
       "Birthday                 object\n",
       "College                  object\n",
       "Current Status           object\n",
       "Current Team             object\n",
       "Experience               object\n",
       "Height (inches)         float64\n",
       "High School              object\n",
       "High School Location     object\n",
       "Name                     object\n",
       "Number                  float64\n",
       "Player Id                object\n",
       "Position                 object\n",
       "Weight (lbs)            float64\n",
       "Years Played             object\n",
       "dtype: object"
      ]
     },
     "execution_count": 39,
     "metadata": {},
     "output_type": "execute_result"
    }
   ],
   "source": [
    "df.head(3)\n",
    "df.dtypes"
   ]
  },
  {
   "cell_type": "markdown",
   "metadata": {},
   "source": [
    "# Cleaning Data"
   ]
  },
  {
   "cell_type": "code",
   "execution_count": 35,
   "metadata": {},
   "outputs": [
    {
     "data": {
      "text/plain": [
       "0         5-23-1921\n",
       "1        12-21-1930\n",
       "2         9-11-1960\n",
       "3         9-30-1986\n",
       "4         3-31-1992\n",
       "5         9-11-1892\n",
       "6         9-16-1920\n",
       "7         1-31-1995\n",
       "9         2-23-1919\n",
       "10         3-8-1945\n",
       "11        2-10-1961\n",
       "12        12-4-1983\n",
       "13       11-22-1989\n",
       "14        12-8-1943\n",
       "15         9-1-1942\n",
       "16        12-1-1950\n",
       "17        3-11-1992\n",
       "18        6-14-1963\n",
       "19        1-15-1967\n",
       "20       10-18-1922\n",
       "21        2-15-1990\n",
       "22         1-7-1962\n",
       "23        6-29-1977\n",
       "24        5-16-1960\n",
       "25        5-22-1918\n",
       "26         2-9-1896\n",
       "27         9-6-1978\n",
       "28        9-12-1988\n",
       "29         3-3-1983\n",
       "30        9-14-1954\n",
       "            ...    \n",
       "17142     4-22-1947\n",
       "17143     10-4-1968\n",
       "17144     6-14-1962\n",
       "17145     12-3-1985\n",
       "17146      9-5-1988\n",
       "17147    10-26-1942\n",
       "17148     6-17-1947\n",
       "17149     9-26-1924\n",
       "17150      4-2-1981\n",
       "17151     2-25-1990\n",
       "17152    12-15-1952\n",
       "17153    12-31-1898\n",
       "17154      4-9-1947\n",
       "17155     6-24-1987\n",
       "17156     1-23-1991\n",
       "17157     1-26-1989\n",
       "17158     7-16-1936\n",
       "17159     5-25-1971\n",
       "17160     8-25-1988\n",
       "17161     12-5-1932\n",
       "17162     8-25-1983\n",
       "17163     8-31-1891\n",
       "17164     7-10-1945\n",
       "17165     12-2-1893\n",
       "17166      7-9-1936\n",
       "17167     2-15-1944\n",
       "17168     8-19-1984\n",
       "17169      5-4-1974\n",
       "17170     3-30-1921\n",
       "17171    10-21-1962\n",
       "Name: Birthday, Length: 16835, dtype: object"
      ]
     },
     "execution_count": 35,
     "metadata": {},
     "output_type": "execute_result"
    }
   ],
   "source": [
    "#Remove unused columns\n",
    "df.drop(columns=['High School','High School Location'])\n",
    "#Change '/' for '-' in 'Birthday' column\n",
    "df['Birthday'].apply(lambda x: x.replace('/','-'))"
   ]
  },
  {
   "cell_type": "code",
   "execution_count": null,
   "metadata": {},
   "outputs": [],
   "source": []
  }
 ],
 "metadata": {
  "kernelspec": {
   "display_name": "Python 3",
   "language": "python",
   "name": "python3"
  },
  "language_info": {
   "codemirror_mode": {
    "name": "ipython",
    "version": 3
   },
   "file_extension": ".py",
   "mimetype": "text/x-python",
   "name": "python",
   "nbconvert_exporter": "python",
   "pygments_lexer": "ipython3",
   "version": "3.7.0"
  }
 },
 "nbformat": 4,
 "nbformat_minor": 2
}
